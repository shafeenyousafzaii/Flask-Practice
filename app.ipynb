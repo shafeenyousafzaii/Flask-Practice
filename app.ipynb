{
 "cells": [
  {
   "cell_type": "code",
   "id": "initial_id",
   "metadata": {
    "collapsed": true,
    "ExecuteTime": {
     "end_time": "2025-07-09T23:47:25.240850Z",
     "start_time": "2025-07-09T23:47:19.789534Z"
    }
   },
   "source": "from flask import Flask, render_template, request\n",
   "outputs": [
    {
     "name": "stdout",
     "output_type": "stream",
     "text": [
      "Defaulting to user installation because normal site-packages is not writeable\n",
      "Collecting flask\n",
      "  Downloading flask-3.1.1-py3-none-any.whl.metadata (3.0 kB)\n",
      "Collecting blinker>=1.9.0 (from flask)\n",
      "  Using cached blinker-1.9.0-py3-none-any.whl.metadata (1.6 kB)\n",
      "Requirement already satisfied: click>=8.1.3 in c:\\users\\shafeenyousafzai\\appdata\\roaming\\python\\python313\\site-packages (from flask) (8.2.1)\n",
      "Collecting itsdangerous>=2.2.0 (from flask)\n",
      "  Using cached itsdangerous-2.2.0-py3-none-any.whl.metadata (1.9 kB)\n",
      "Requirement already satisfied: jinja2>=3.1.2 in c:\\users\\shafeenyousafzai\\appdata\\roaming\\python\\python313\\site-packages (from flask) (3.1.4)\n",
      "Requirement already satisfied: markupsafe>=2.1.1 in c:\\users\\shafeenyousafzai\\appdata\\roaming\\python\\python313\\site-packages (from flask) (2.1.5)\n",
      "Collecting werkzeug>=3.1.0 (from flask)\n",
      "  Using cached werkzeug-3.1.3-py3-none-any.whl.metadata (3.7 kB)\n",
      "Requirement already satisfied: colorama in c:\\programdata\\miniconda3\\lib\\site-packages (from click>=8.1.3->flask) (0.4.6)\n",
      "Downloading flask-3.1.1-py3-none-any.whl (103 kB)\n",
      "Using cached blinker-1.9.0-py3-none-any.whl (8.5 kB)\n",
      "Using cached itsdangerous-2.2.0-py3-none-any.whl (16 kB)\n",
      "Using cached werkzeug-3.1.3-py3-none-any.whl (224 kB)\n",
      "Installing collected packages: werkzeug, itsdangerous, blinker, flask\n",
      "\n",
      "   ---------------------------------------- 0/4 [werkzeug]\n",
      "   ---------------------------------------- 0/4 [werkzeug]\n",
      "   ---------------------------------------- 0/4 [werkzeug]\n",
      "   ---------------------------------------- 0/4 [werkzeug]\n",
      "   ---------------------------------------- 0/4 [werkzeug]\n",
      "   ---------- ----------------------------- 1/4 [itsdangerous]\n",
      "   ------------------------------ --------- 3/4 [flask]\n",
      "   ------------------------------ --------- 3/4 [flask]\n",
      "   ------------------------------ --------- 3/4 [flask]\n",
      "   ---------------------------------------- 4/4 [flask]\n",
      "\n",
      "Successfully installed blinker-1.9.0 flask-3.1.1 itsdangerous-2.2.0 werkzeug-3.1.3\n",
      "Note: you may need to restart the kernel to use updated packages.\n"
     ]
    }
   ],
   "execution_count": 1
  }
 ],
 "metadata": {
  "kernelspec": {
   "display_name": "Python 3",
   "language": "python",
   "name": "python3"
  },
  "language_info": {
   "codemirror_mode": {
    "name": "ipython",
    "version": 2
   },
   "file_extension": ".py",
   "mimetype": "text/x-python",
   "name": "python",
   "nbconvert_exporter": "python",
   "pygments_lexer": "ipython2",
   "version": "2.7.6"
  }
 },
 "nbformat": 4,
 "nbformat_minor": 5
}
